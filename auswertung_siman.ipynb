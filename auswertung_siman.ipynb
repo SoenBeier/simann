{
 "cells": [
  {
   "cell_type": "code",
   "execution_count": 15,
   "id": "5bc5f643",
   "metadata": {},
   "outputs": [],
   "source": [
    "import json\n",
    "\n",
    "#####ließt Ergebnisdatei \n",
    "filename = \"fav_revert_part_c0.85_breakp_0.01_starting_temp_70.json\"\n",
    "\n",
    "fav_data = []\n",
    "for line in open(filename,\"r\"):\n",
    "    fav_data.append(json.loads(line))\n",
    "read.close()"
   ]
  }
 ],
 "metadata": {
  "kernelspec": {
   "display_name": "Python 3",
   "language": "python",
   "name": "python3"
  },
  "language_info": {
   "codemirror_mode": {
    "name": "ipython",
    "version": 3
   },
   "file_extension": ".py",
   "mimetype": "text/x-python",
   "name": "python",
   "nbconvert_exporter": "python",
   "pygments_lexer": "ipython3",
   "version": "3.8.8"
  }
 },
 "nbformat": 4,
 "nbformat_minor": 5
}
